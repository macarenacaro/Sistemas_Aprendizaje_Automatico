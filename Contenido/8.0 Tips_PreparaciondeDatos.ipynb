{
 "cells": [
  {
   "cell_type": "markdown",
   "metadata": {},
   "source": [
    "*******************************************************0. DATOS DEL DATAFRAME ******************************************************"
   ]
  },
  {
   "cell_type": "markdown",
   "metadata": {},
   "source": [
    "*****1.VER DATOS"
   ]
  },
  {
   "cell_type": "code",
   "execution_count": null,
   "metadata": {
    "vscode": {
     "languageId": "plaintext"
    }
   },
   "outputs": [],
   "source": [
    "df.info()\n",
    "\n",
    "df.head()\n",
    "\n",
    "df.shape[0]#Cuantas filas\n",
    "\n",
    "df.shape[1]#Cuantas columnas\n",
    "\n",
    "df.shape #Cuantas filas, column"
   ]
  },
  {
   "cell_type": "markdown",
   "metadata": {},
   "source": [
    "********************************************************1. VALORES NULOS *****************************************************\n"
   ]
  },
  {
   "cell_type": "markdown",
   "metadata": {},
   "source": [
    "*****1. VER Y ENCONTRAR NULOS\n"
   ]
  },
  {
   "cell_type": "code",
   "execution_count": null,
   "metadata": {
    "vscode": {
     "languageId": "plaintext"
    }
   },
   "outputs": [],
   "source": [
    "df['Sex'].isnull().sum()  #De una columna en particular: Da un Nº 0 o 10 o 20\n",
    "\n",
    "df['Embarked'].isnull().value_counts() # False\t1307  True\t2\n",
    "\n",
    "na_fare = df[df['Fare'].isnull()] #Pasar LA (1) fila nula a una nueva"
   ]
  },
  {
   "cell_type": "markdown",
   "metadata": {},
   "source": [
    "*****2. BORRAR NULOS\n"
   ]
  },
  {
   "cell_type": "code",
   "execution_count": null,
   "metadata": {
    "vscode": {
     "languageId": "plaintext"
    }
   },
   "outputs": [],
   "source": [
    "#***** 2. BORRAR FILA CON \" \"\n",
    "df.drop(df[df['workclass'] == ' '].index, inplace = True) #Borrar la Fila con \" \"\n",
    " \n",
    "#***** 2. BORRAR FILA CON NULO\n",
    "df.dropna(subset=['nombre_columna'], inplace=True)#BORRAR FILAS DE COLUMNA ESPECIFICA CON NULOS\n",
    "\n",
    "cdf = df.dropna() #BORRAR TODAS LAS FILAS CON NULOS\n",
    "\n",
    "#***** 2. BORRAR COLUMNA CON MUCHOS NULOS\n",
    "df = df.drop(columns=['Cabin'])\n",
    "\n",
    "\n"
   ]
  },
  {
   "cell_type": "markdown",
   "metadata": {},
   "source": [
    "*****3. ENCONTRAR MEDIA,MEDIANA ANTES DE REEMPLAZAR NULOS (PARA DATOS NUMERICOS)"
   ]
  },
  {
   "cell_type": "markdown",
   "metadata": {},
   "source": [
    "#*****3.2. ENCONTRAR LA MEDIA COMO VALOR APARTE A PARTIR DE COLUMNAS IMPORTANTES\n",
    "var1 = df['Fare'].loc[ (df['Ticket'] == na_fare['Ticket'].values[0]) &\n",
    "                            (df['Pclass'] == na_fare['Pclass'].values[0]) &\n",
    "                            (df['Embarked'] == na_fare['Embarked'].values[0]) ].mean()\n",
    "\n",
    "#*****5.1. ENCONTRAR LA MEDIANA COMO VALOR APARTE\n",
    "guess_Fare = df['Fare'].loc[ (df['Ticket'] == na_fare['Ticket'].values[0]) &\n",
    "                            (df['Pclass'] == na_fare['Pclass'].values[0]) &\n",
    "                            (df['Embarked'] == na_fare['Embarked'].values[0])].median()\n"
   ]
  },
  {
   "cell_type": "markdown",
   "metadata": {},
   "source": [
    "*****4. REEMPLAZAR NULOS CON: <br>\n",
    "NÚMEROS, MEDIA, MEDIANA, MODA, AGRUPACIONES A PARTIR DE OTRAS O RANDOMREGRESOR (CON PREDICCIONES)"
   ]
  },
  {
   "cell_type": "code",
   "execution_count": null,
   "metadata": {
    "vscode": {
     "languageId": "plaintext"
    }
   },
   "outputs": [],
   "source": [
    "#*****1. REEMPLAZAR NULOS CON NÚMEROS\n",
    "df['hours-per-week'].fillna(0, inplace=True) #Con 0s \n",
    "\n",
    "#*****2. REEMPLAZAR NULOS CON MEDIA DE LA COLUMNA DIRECTAMENTE, ES MAS GENERAL\n",
    "df['hours-per-week'].fillna(df['hours-per-week'].mean(), inplace=True)\n",
    "\n",
    "#*****3. REEMPLAZAR NULOS CON MEDIANA \n",
    "df['Fare'].fillna(guess_Fare, inplace=True) #del ejercicio 5.1 A PARTIR DE LA EQUIVALENCIA DE OTRAS (media específica)\n",
    "\n",
    "#*****4. REEMPLAZAR NULOS CON MEDIANA DE LA COLUMNA DIRECTAMENTE, ES MAS GENERAL\n",
    "df['hours-per-week'].fillna(df['hours-per-week'].median(), inplace=True) \n",
    "\n",
    "#*****5. REEMPLAZAR NULOS CON MODA (SOLO PARA DATOS CATEGORICOS)\n",
    "df['Embarked'].fillna(df['Embarked'].mode()[0], inplace=True)#moda\n",
    "\n",
    "#*****6. REEMPLAZAR NULOS CON AGRUPACIONES CON COLUMNAS CO-RELACIONADAS\n",
    "group = df[['education','education-num']].groupby('education').mean().reset_index() #Se crea columna group\n",
    "\n",
    "#df[['education', 'education-num']]: Selecciona las columnas education y education-num\n",
    "#.groupby('education'): Agrupa los datos por la columna education, lo que significa que los datos se agruparán según cada nivel educativo.\n",
    "#.mean(): Calcula el promedio de la columna education-num para cada grupo de education.\n",
    "#.reset_index(): Convierte el resultado de la operación de agrupación en un nuevo DataFrame"
   ]
  },
  {
   "cell_type": "code",
   "execution_count": null,
   "metadata": {
    "vscode": {
     "languageId": "plaintext"
    }
   },
   "outputs": [],
   "source": [
    "#*****7. REEMPLAZAR NULOS CON PREDICCIONES: RANDOMFORESTREGRESSOR\n",
    "from sklearn.ensemble import RandomForestRegressor\n",
    "\n",
    "# ¿Qué variables nos interesan para tener en cuenta?\n",
    "df_sub = df[['Age','Title','Fare','SibSp']]\n",
    "\n",
    "# Para poder entrenar el modelo y comprobar que funciona adecuadamente para aplicarlo a los datos desconocidos debemos:\n",
    "\n",
    "# 1. eliminar aquellas filas nulas de los datos de entrenamiento\n",
    "X_train  = df_sub.dropna().drop('Age', axis=1)\n",
    "y_train  = df['Age'].dropna()\n",
    "\n",
    "# 2. guardar en test las filas nulas #SON LAS QUE QUEREMOS PREDECIR\n",
    "X_test = df_sub.loc[np.isnan(df.Age)].drop('Age', axis=1)\n",
    "\n",
    "# 3.Aplicamos el algortimo Con los datos de entrenamiento\n",
    "regressor = RandomForestRegressor(n_estimators = 300)\n",
    "regressor.fit(X_train, y_train)\n",
    "\n",
    "# 4.Predecimos los valores que nos faltan\n",
    "y_pred = np.round(regressor.predict(X_test),1) #CON X_tEST\n",
    "y_pred\n",
    "\n",
    "#5.Sustituimos estos valores en el dataset\n",
    "df.Age.loc[df.Age.isnull()] = y_pred\n",
    "\n",
    "#6.Sustituimos estos valores en el dataset\n",
    "df.Age.isnull().sum(axis=0)"
   ]
  },
  {
   "cell_type": "markdown",
   "metadata": {},
   "source": [
    "EL PROCESO ANTERIOR SE HACE INDEPENDIENTE DE LA CATEGORÍA DEL DATO, AHORA REALIZAREMOS ACCIONES, DEPENDIENDO DEL TIPO DE DATO (CATEGORICO O NUMERICO)"
   ]
  },
  {
   "cell_type": "markdown",
   "metadata": {},
   "source": [
    "****************************************************** 3. DATOS CATEGORICOS *******************************************************\n"
   ]
  },
  {
   "cell_type": "markdown",
   "metadata": {},
   "source": [
    "#*****3.1. VER CATEGORIAS"
   ]
  },
  {
   "cell_type": "code",
   "execution_count": null,
   "metadata": {
    "vscode": {
     "languageId": "plaintext"
    }
   },
   "outputs": [],
   "source": [
    "#*****3. VER TIPOS\n",
    "df['Sex'].unique() #array(['male', 'female'])\n",
    "\n",
    "#*****3. VER CUANTOS DATOS TIENE CADA CATEGORIA\n",
    "df['Ticket'].value_counts()"
   ]
  },
  {
   "cell_type": "markdown",
   "metadata": {},
   "source": [
    "#*****3.2. TRANSFORMAR A VARIABLES CATEGORICAS MÁS SIMPLES"
   ]
  },
  {
   "cell_type": "markdown",
   "metadata": {},
   "source": [
    "#*****1. MANTENER SÓLO LA INICIAL\n",
    "df['Ticket'] = df['Ticket'].map(lambda k: k[0]) #\"A/5 21171\" Transforma esa variable en \"A\", solo deja la Inicial\n",
    "\n",
    "#*****2. SUSTITUIR ALGUNAS VARIABLES POR UN VALOR ESPECIFICO\n",
    "df['Ticket'] = df['Ticket'].replace(['A','W','F','L','5','6','7','8','9'], '4') #Sustituye todas esas por 4\n",
    "\n",
    "#*****3. DARLES CLASES ESPECÍFICAS , LUEGO CADA CLASE SE DEBE TRANSFORMAR\n",
    "def get_titles(df):\n",
    "    title_dictionary = {\n",
    "        \"Capt\": \"Officer\",\n",
    "        \"Col\": \"Officer\",\n",
    "        \"Major\": \"Officer\",\n",
    "        \"Jonkheer\": \"Royalty\",\n",
    "        \"Don\": \"Royalty\",\n",
    "        \"Dona\": \"Royalty\",\n",
    "        \"Sir\": \"Royalty\",\n",
    "        \"Dr\": \"Officer\",\n",
    "        \"Rev\": \"Officer\",\n",
    "        \"the Countess\": \"Royalty\",\n",
    "        \"Mme\": \"Mrs\",\n",
    "        \"Mlle\": \"Miss\",\n",
    "        \"Ms\": \"Mrs\",\n",
    "        \"Mr\": \"Mr\",\n",
    "        \"Mrs\": \"Mrs\",\n",
    "        \"Miss\": \"Miss\",\n",
    "        \"Master\": \"Master\",\n",
    "        \"Lady\": \"Royalty\"\n",
    "    }\n",
    "    print(df['Name'])\n",
    "\n",
    "    def process_name(x):\n",
    "        # print(x)\n",
    "        return x.split(',')[1].split('.')[0].strip()\n",
    "\n",
    "    df['Title'] = df['Name'].map(process_name)\n",
    "    df['Title'] = df.Title.map(title_dictionary)\n",
    "    print(df['Name'][df['Title'].isna()])\n",
    "\n",
    "    return df"
   ]
  },
  {
   "cell_type": "markdown",
   "metadata": {},
   "source": [
    "#*****3.3. TRANSFORMAR A NÚMEROS"
   ]
  },
  {
   "cell_type": "code",
   "execution_count": null,
   "metadata": {
    "vscode": {
     "languageId": "plaintext"
    }
   },
   "outputs": [],
   "source": [
    "#*****1. SUSTITUCIÓN: MAP\n",
    "\n",
    "df['Sex'] = df['Sex'].map({'male': 0, 'female': 1}) #Ej.1\n",
    "df['Embarked'] = df['Embarked'].map({'S': 2, 'C': 0, 'Q': 1}) #Ej.2\n",
    "\n",
    "df = get_titles(df) #Ej.3 del ejemplo anterior\n",
    "df['Title'] = df['Title'].map({'Officer': 0, 'Royalty': 1, 'Mrs': 2, 'Miss': 3, 'Master': 4, 'Mr': 5}).astype(int)"
   ]
  },
  {
   "cell_type": "markdown",
   "metadata": {},
   "source": [
    "#*****2. ENCODE_LABEL\n",
    "\n",
    "def encode_label(df):\n",
    "    return df.astype('category').cat.codes\n",
    "\n",
    "df['Ticket'] = encode_label(df['Ticket'])"
   ]
  },
  {
   "cell_type": "markdown",
   "metadata": {},
   "source": [
    "#*****3.LABEL ENCODER\n",
    "from sklearn import preprocessing\n",
    "encoder = preprocessing.LabelEncoder()\n",
    "\n",
    "encoded = encoder.fit_transform(df['workclass'])\n",
    "df['workclass'] = encoded.astype('int')\n"
   ]
  },
  {
   "cell_type": "markdown",
   "metadata": {},
   "source": [
    "****************************************************** 4. DATOS NUMERICOS *******************************************************\n"
   ]
  },
  {
   "cell_type": "markdown",
   "metadata": {},
   "source": [
    "#*****4.1. TRANSFORMAR A MENOS VARIABLES NUMÉRICAS"
   ]
  },
  {
   "cell_type": "code",
   "execution_count": null,
   "metadata": {
    "vscode": {
     "languageId": "plaintext"
    }
   },
   "outputs": [],
   "source": [
    "#*****1. BINS:\n",
    "queda Fare-bin como la misma columna solo que con contenedores de datos más reducidos\n",
    "df['Fare-bin'] = pd.qcut(df.Fare,5,labels=[1,2,3,4,5]).astype(int)\n",
    "\n",
    "\n",
    "#*****1.2 BINS:\n",
    "Transformar un rango de edades continuas en categorías como \"0-18\", \"19-35\", \"36-50\", \"51-70\", \"71+\".\n",
    "df['Age-bin'] = pd.cut(df['Age'], bins=[0, 18, 35, 50, 70, 100], labels=['0-18', '19-35', '36-50', '51-70', '71+'])\n",
    "\n",
    "#*****1.3 BINS:\n",
    "df['Income-bin'] = pd.cut(df['Income'], bins=[0, 30000, 60000, 100000], labels=['Low', 'Medium', 'High'])\n"
   ]
  },
  {
   "cell_type": "code",
   "execution_count": null,
   "metadata": {
    "vscode": {
     "languageId": "plaintext"
    }
   },
   "outputs": [],
   "source": [
    "#*****2. AGRUPACIONES:\n",
    "Se llama discretización: simplifica un rango continuo en categorías numeradas en UNA sola columna.\n",
    "\n",
    "df['Age-bin'] = df['Age']\n",
    "df.loc[df['Age-bin'] <= 16, 'Age-bin'] = 0\n",
    "df.loc[(df['Age-bin'] > 16) & (df['Age-bin'] <= 32), 'Age-bin'] = 1\n",
    "df.loc[(df['Age-bin'] > 32), 'Age-bin'] = 2"
   ]
  },
  {
   "cell_type": "code",
   "execution_count": null,
   "metadata": {
    "vscode": {
     "languageId": "plaintext"
    }
   },
   "outputs": [],
   "source": [
    "#****3. \"DUMMIES\": creación de variables indicadoras o encoding con variables dummies \n",
    "Son variables indicadoras: genera una columna separada para cada categoría, asignando valores binarios (1 o 0).\n",
    "\n",
    "df['FamilySize'] = df['Parch'] + df['SibSp'] + 1\n",
    "df['Singleton'] = df['FamilySize'].map(lambda s: 1 if s == 1 else 0)\n",
    "df['SmallFamily'] = df['FamilySize'].map(lambda s: 1 if 2 <= s <= 3 else 0)\n",
    "df['MediumFamily'] = df['FamilySize'].map(lambda s: 1 if s == 4 else 0)\n",
    "df['LargeFamily'] = df['FamilySize'].map(lambda s: 1 if 5 <= s else 0)"
   ]
  }
 ],
 "metadata": {
  "language_info": {
   "name": "python"
  }
 },
 "nbformat": 4,
 "nbformat_minor": 2
}
